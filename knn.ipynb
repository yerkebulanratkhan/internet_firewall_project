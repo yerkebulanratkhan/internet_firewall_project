{
  "nbformat": 4,
  "nbformat_minor": 0,
  "metadata": {
    "colab": {
      "name": "knn",
      "provenance": [],
      "collapsed_sections": []
    },
    "kernelspec": {
      "name": "python3",
      "display_name": "Python 3"
    },
    "language_info": {
      "name": "python"
    }
  },
  "cells": [
    {
      "cell_type": "code",
      "metadata": {
        "id": "xMbeYsZ8omwQ"
      },
      "source": [
        "import numpy as np\n",
        "import matplotlib.pyplot as plt\n",
        "from sklearn import linear_model\n",
        "import pandas as pd\n",
        "from sklearn import metrics \n",
        "from math import sqrt\n",
        "from sklearn.model_selection import GridSearchCV\n",
        "from yellowbrick.model_selection import ValidationCurve\n",
        "from sklearn import tree\n",
        "from sklearn.model_selection import train_test_split\n",
        "from sklearn.metrics import roc_auc_score\n",
        "from sklearn.neighbors import KNeighborsClassifier\n",
        "clf = KNeighborsClassifier()\n",
        "A = pd.read_csv(\"log2.csv\")\n",
        "X = A.values[:,[0,1,2,3,5,6,7,8,9,10,11]]\n",
        "Y = A.values[:,4]\n",
        "X, Xt, Y, Yt = train_test_split(X, Y, train_size=0.7, random_state=2)"
      ],
      "execution_count": null,
      "outputs": []
    },
    {
      "cell_type": "code",
      "metadata": {
        "colab": {
          "base_uri": "https://localhost:8080/"
        },
        "id": "t726zVjepCM3",
        "outputId": "ca0f2467-a974-419c-e455-d9415d8b8c44"
      },
      "source": [
        "param_grid=[\n",
        "  {\n",
        "      'n_neighbors':[3,5, 7, 10],\n",
        "      'weights':['uniform','distance'],\n",
        "      'algorithm':['auto', 'ball_tree', 'kd_tree', 'brute'],\n",
        "      'leaf_size':[10,15,30,50]\n",
        "  }\n",
        "]\n",
        "cv = GridSearchCV(clf, param_grid=param_grid, cv = 10, n_jobs=-1,scoring='accuracy')\n",
        "best_clf = cv.fit(X,Y)\n",
        "print(best_clf.best_params_)\n"
      ],
      "execution_count": null,
      "outputs": [
        {
          "output_type": "stream",
          "name": "stderr",
          "text": [
            "/usr/local/lib/python3.7/dist-packages/joblib/externals/loky/process_executor.py:705: UserWarning: A worker stopped while some jobs were given to the executor. This can be caused by a too short worker timeout or by a memory leak.\n",
            "  \"timeout or by a memory leak.\", UserWarning\n"
          ]
        },
        {
          "output_type": "stream",
          "name": "stdout",
          "text": [
            "{'algorithm': 'brute', 'leaf_size': 10, 'n_neighbors': 10, 'weights': 'distance'}\n"
          ]
        }
      ]
    },
    {
      "cell_type": "code",
      "metadata": {
        "colab": {
          "base_uri": "https://localhost:8080/"
        },
        "id": "oooPoafdtqjJ",
        "outputId": "687ab910-ac8a-47f9-9209-947bc589d145"
      },
      "source": [
        "best=KNeighborsClassifier(n_neighbors=10, weights='distance', algorithm='brute', leaf_size=10)\n",
        "best.fit(X,Y)"
      ],
      "execution_count": null,
      "outputs": [
        {
          "output_type": "execute_result",
          "data": {
            "text/plain": [
              "KNeighborsClassifier(algorithm='brute', leaf_size=10, n_neighbors=10,\n",
              "                     weights='distance')"
            ]
          },
          "metadata": {},
          "execution_count": 18
        }
      ]
    },
    {
      "cell_type": "code",
      "metadata": {
        "colab": {
          "base_uri": "https://localhost:8080/"
        },
        "id": "tW7mzixfuXAn",
        "outputId": "850896f9-beee-40dc-e41d-e1a9a56951e3"
      },
      "source": [
        "y_pred = best.predict(Xt)\n",
        "print(\"accuracy: \", metrics.accuracy_score(Yt, y_pred))"
      ],
      "execution_count": null,
      "outputs": [
        {
          "output_type": "stream",
          "name": "stdout",
          "text": [
            "accuracy:  0.993194164682903\n"
          ]
        }
      ]
    },
    {
      "cell_type": "code",
      "metadata": {
        "colab": {
          "base_uri": "https://localhost:8080/"
        },
        "id": "tk6r7KcJLIPa",
        "outputId": "abb287ee-71d7-48f9-c885-6eefb4a8ee62"
      },
      "source": [
        "from sklearn.metrics import classification_report\n",
        "target_names = ['allow', 'deny', 'drop','reset-both']\n",
        "print(classification_report(Yt, y_pred, target_names=target_names,digits=5))\n",
        "\n"
      ],
      "execution_count": null,
      "outputs": [
        {
          "output_type": "stream",
          "name": "stdout",
          "text": [
            "              precision    recall  f1-score   support\n",
            "\n",
            "       allow    0.99813   0.99321   0.99566     18843\n",
            "        deny    0.98046   0.99153   0.98597      7440\n",
            "        drop    0.99384   0.99938   0.99660      6455\n",
            "  reset-both    0.00000   0.00000   0.00000        28\n",
            "\n",
            "    accuracy                        0.99319     32766\n",
            "   macro avg    0.74311   0.74603   0.74456     32766\n",
            "weighted avg    0.99242   0.99319   0.99280     32766\n",
            "\n"
          ]
        }
      ]
    },
    {
      "cell_type": "code",
      "metadata": {
        "id": "NTQMKBMKH6Ys"
      },
      "source": [
        "import seaborn as sns\n",
        "\n",
        "\n",
        "def plot_cv_results(cv_results, param_x, param_z, metric='mean_test_score'):\n",
        "    cv_results = pd.DataFrame(cv_results)\n",
        "    col_x = 'param_' + param_x\n",
        "    col_z = 'param_' + param_z\n",
        "    fig, ax = plt.subplots(1, 1, figsize=(11, 8))\n",
        "    sns.pointplot(x=col_x, y=metric, hue=col_z, data=cv_results, ci=99, n_boot=64, ax=ax)\n",
        "    ax.set_title(\"CV Grid Search Results\")\n",
        "    ax.set_xlabel(param_x)\n",
        "    ax.set_ylabel(\"Mean_test_score\")\n",
        "    ax.legend(title=param_z)\n",
        "    return fig\n",
        "\n",
        "def plot_cv_result(cv_results, param_x, metric='mean_test_score'):\n",
        "    cv_results = pd.DataFrame(cv_results)\n",
        "    col_x = 'param_' + param_x\n",
        "    fig, ax = plt.subplots(1, 1, figsize=(11, 8))\n",
        "    sns.pointplot(x=col_x,  y=metric, hue=None, data=cv_results, ci=99, n_boot=64, ax=ax, fontsize=50)\n",
        "    ax.set_title(\"CV Grid Search Results\")\n",
        "    ax.set_xlabel(param_x, fontsize=20)\n",
        "    ax.set_ylabel(\"Mean_test_score\", fontsize=20)\n",
        "    \n",
        "   \n",
        "    return fig"
      ],
      "execution_count": null,
      "outputs": []
    },
    {
      "cell_type": "code",
      "metadata": {
        "colab": {
          "base_uri": "https://localhost:8080/",
          "height": 521
        },
        "id": "0Of3PM6KJr1U",
        "outputId": "bbe493c6-9c19-4857-9dec-0f671b0b84fd"
      },
      "source": [
        "fig = plot_cv_result(cv.cv_results_, 'leaf_size')"
      ],
      "execution_count": null,
      "outputs": [
        {
          "output_type": "display_data",
          "data": {
            "image/png": "[encoded data removed]",
            "text/plain": [
              "<Figure size 792x576 with 1 Axes>"
            ]
          },
          "metadata": {
            "needs_background": "light"
          }
        }
      ]
    }
  ]
}