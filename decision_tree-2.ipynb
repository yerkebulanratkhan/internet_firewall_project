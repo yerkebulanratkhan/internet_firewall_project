{
  "nbformat": 4,
  "nbformat_minor": 0,
  "metadata": {
    "colab": {
      "name": "decision_tree.ipynb",
      "provenance": []
    },
    "kernelspec": {
      "name": "python3",
      "display_name": "Python 3"
    },
    "language_info": {
      "name": "python"
    }
  },
  "cells": [
    {
      "cell_type": "code",
      "metadata": {
        "colab": {
          "base_uri": "https://localhost:8080/"
        },
        "id": "sov3811J6zsU",
        "outputId": "215fd66e-8e21-40e9-ee17-7a4297b7f188"
      },
      "source": [
        "import numpy as np\n",
        "import matplotlib.pyplot as plt\n",
        "from sklearn import linear_model\n",
        "import pandas as pd\n",
        "from sklearn import metrics \n",
        "from math import sqrt\n",
        "from sklearn.model_selection import GridSearchCV\n",
        "from sklearn import tree\n",
        "from sklearn.model_selection import train_test_split\n",
        "clf = tree.DecisionTreeClassifier()\n",
        "A = pd.read_csv(\"log2.csv\")\n",
        "X = A.values[:,[0,1,2,3,5,7,9,10,11]]\n",
        "Y = A.values[:,4]\n",
        "X, Xt, Y, Yt = train_test_split(X, Y, train_size=0.7, random_state=42)\n",
        "param_grid=[\n",
        "  {\n",
        "      'criterion':['entropy', 'gini'],\n",
        "      'splitter':['best','random'],\n",
        "      'max_depth':[None,3,5,7]\n",
        "  }\n",
        "]\n",
        "cv = GridSearchCV(clf, param_grid=param_grid, cv = 10, n_jobs=-1,scoring='accuracy')\n",
        "best_clf = cv.fit(X,Y)\n",
        "print(best_clf.best_params_)\n",
        "model = tree.DecisionTreeClassifier(criterion = best_clf.best_params_.get('criterion'), splitter = best_clf.best_params_.get('splitter'), \n",
        "                                    max_depth = best_clf.best_params_.get('max_depth'))\n",
        "model.fit(X,Y)\n",
        "y_pred = model.predict(Xt)\n"
      ],
      "execution_count": null,
      "outputs": [
        {
          "output_type": "stream",
          "name": "stdout",
          "text": [
            "{'criterion': 'entropy', 'max_depth': 7, 'splitter': 'best'}\n"
          ]
        }
      ]
    },
    {
      "cell_type": "code",
      "metadata": {
        "colab": {
          "base_uri": "https://localhost:8080/"
        },
        "id": "a4sbkoYS8-HI",
        "outputId": "9298bfaa-4c2c-4f93-8ba2-ec7f662d3481"
      },
      "source": [
        "print(\"accuracy: \", metrics.accuracy_score(Yt, y_pred))"
      ],
      "execution_count": null,
      "outputs": [
        {
          "output_type": "stream",
          "name": "stdout",
          "text": [
            "accuracy:  0.9981688708036622\n"
          ]
        }
      ]
    },
    {
      "cell_type": "code",
      "metadata": {
        "colab": {
          "base_uri": "https://localhost:8080/"
        },
        "id": "Sx93lf2xX0vZ",
        "outputId": "89b1ba33-831b-44e9-8c93-aa5380e198a6"
      },
      "source": [
        "cv.best_params_"
      ],
      "execution_count": null,
      "outputs": [
        {
          "output_type": "execute_result",
          "data": {
            "text/plain": [
              "{'criterion': 'entropy', 'max_depth': 7, 'splitter': 'best'}"
            ]
          },
          "metadata": {},
          "execution_count": 19
        }
      ]
    },
    {
      "cell_type": "code",
      "metadata": {
        "colab": {
          "base_uri": "https://localhost:8080/"
        },
        "id": "6CusHRFHX3eC",
        "outputId": "ee057eb5-0f70-4176-fcd0-e76ac12afd42"
      },
      "source": [
        "from sklearn.metrics import classification_report\n",
        "target_names = ['allow', 'deny', 'drop','reset-both']\n",
        "print(classification_report(Yt, y_pred, target_names=target_names,digits=5))"
      ],
      "execution_count": null,
      "outputs": [
        {
          "output_type": "stream",
          "name": "stdout",
          "text": [
            "              precision    recall  f1-score   support\n",
            "\n",
            "       allow    0.99956   0.99947   0.99951     11330\n",
            "        deny    0.99577   0.99621   0.99599      4485\n",
            "        drop    0.99766   0.99974   0.99870      3830\n",
            "  reset-both    0.50000   0.20000   0.28571        15\n",
            "\n",
            "    accuracy                        0.99817     19660\n",
            "   macro avg    0.87324   0.79885   0.81998     19660\n",
            "weighted avg    0.99794   0.99817   0.99801     19660\n",
            "\n"
          ]
        }
      ]
    },
    {
      "cell_type": "code",
      "metadata": {
        "id": "teaQJ9BQQd0e",
        "colab": {
          "base_uri": "https://localhost:8080/"
        },
        "outputId": "4c573e65-ef52-4e55-c4bb-9748dcc55ecf"
      },
      "source": [
        "label='reset-both'\n",
        "k=0\n",
        "n=0\n",
        "for i in range(len(y_pred)):\n",
        "  if Yt[i]==label:\n",
        "    #print(y_pred[i])\n",
        "    k+=1\n",
        "    if y_pred[i]==label:\n",
        "      n+=1\n",
        "print(k)\n",
        "print(n/k)"
      ],
      "execution_count": null,
      "outputs": [
        {
          "output_type": "stream",
          "name": "stdout",
          "text": [
            "15\n",
            "0.2\n"
          ]
        }
      ]
    }
  ]
}