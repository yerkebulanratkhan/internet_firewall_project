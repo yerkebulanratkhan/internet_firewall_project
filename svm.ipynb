{
  "nbformat": 4,
  "nbformat_minor": 0,
  "metadata": {
    "colab": {
      "name": "svm.ipynb",
      "provenance": [],
      "collapsed_sections": []
    },
    "kernelspec": {
      "display_name": "Python 3",
      "name": "python3"
    },
    "language_info": {
      "name": "python"
    }
  },
  "cells": [
    {
      "cell_type": "code",
      "metadata": {
        "id": "YspnvYjiXvHE"
      },
      "source": [
        "import numpy as np\n",
        "import matplotlib.pyplot as plt\n",
        "from sklearn import linear_model\n",
        "import pandas as pd\n",
        "from sklearn import metrics \n",
        "from math import sqrt\n",
        "from sklearn.model_selection import GridSearchCV\n",
        "from yellowbrick.model_selection import ValidationCurve\n",
        "from sklearn import tree\n",
        "from sklearn.model_selection import train_test_split\n",
        "from sklearn.metrics import roc_auc_score\n",
        "from sklearn import svm\n",
        "clf = svm.SVC()\n",
        "A = pd.read_csv(\"log2.csv\")\n",
        "A=A.sort_values(by=['Action'])\n",
        "X = A.values[:,[0,1,2,3,5,6,7,8,9,10,11]]\n",
        "Y = A.values[:,4]\n",
        "X, Xt, Y, Yt = train_test_split(X, Y, train_size=0.7, random_state=1)"
      ],
      "execution_count": null,
      "outputs": []
    },
    {
      "cell_type": "code",
      "metadata": {
        "colab": {
          "background_save": true,
          "base_uri": "https://localhost:8080/"
        },
        "id": "9keFjySIj4Ev",
        "outputId": "8b1e6422-44b8-42b1-dabd-ac01630f9f3f"
      },
      "source": [
        "param_grid=[\n",
        "  {\n",
        "      'kernel':['linear', 'poly', 'rbf', 'sigmoid'],\n",
        "\n",
        "  }\n",
        "]\n",
        "cv = GridSearchCV(clf, param_grid=param_grid, cv = 10, n_jobs=-1,scoring='accuracy')\n",
        "cv.fit(X,Y)\n",
        "print(cv.best_params_)\n"
      ],
      "execution_count": null,
      "outputs": [
        {
          "name": "stderr",
          "output_type": "stream",
          "text": [
            "/usr/local/lib/python3.7/dist-packages/sklearn/model_selection/_split.py:680: UserWarning: The least populated class in y has only 4 members, which is less than n_splits=8.\n",
            "  UserWarning,\n"
          ]
        }
      ]
    },
    {
      "cell_type": "code",
      "metadata": {
        "colab": {
          "base_uri": "https://localhost:8080/"
        },
        "id": "651e6LeYtQsb",
        "outputId": "701b86b8-ea5d-4c00-de25-3ba8252d8a9d"
      },
      "source": [
        "param_grid=[\n",
        "  {\n",
        "\n",
        "      'gamma':['scale','auto'],\n",
        "  }\n",
        "]\n",
        "cv1 = GridSearchCV(clf, param_grid=param_grid, cv = 10, n_jobs=-1,scoring='accuracy')\n",
        "cv1.fit(X,Y)\n",
        "print(cv1.best_params_)\n"
      ],
      "execution_count": null,
      "outputs": [
        {
          "name": "stderr",
          "output_type": "stream",
          "text": [
            "/usr/local/lib/python3.7/dist-packages/sklearn/model_selection/_split.py:680: UserWarning: The least populated class in y has only 2 members, which is less than n_splits=10.\n",
            "  UserWarning,\n"
          ]
        },
        {
          "name": "stdout",
          "output_type": "stream",
          "text": [
            "{'gamma': 'auto'}\n"
          ]
        }
      ]
    },
    {
      "cell_type": "code",
      "metadata": {
        "colab": {
          "base_uri": "https://localhost:8080/"
        },
        "id": "SB8ZreUYtQ8J",
        "outputId": "96930e1a-a9b2-4b26-cca8-c1c405dd3a03"
      },
      "source": [
        "param_grid=[\n",
        "  {\n",
        "\n",
        "      'C':['default', 0.1, 10, 100],\n",
        "  }\n",
        "]\n",
        "cv2 = GridSearchCV(clf, param_grid=param_grid, cv = 10, n_jobs=-1,scoring='accuracy')\n",
        "cv2.fit(X,Y)\n",
        "print(cv2.best_params_)\n"
      ],
      "execution_count": null,
      "outputs": [
        {
          "name": "stderr",
          "output_type": "stream",
          "text": [
            "/usr/local/lib/python3.7/dist-packages/sklearn/model_selection/_split.py:680: UserWarning: The least populated class in y has only 2 members, which is less than n_splits=10.\n",
            "  UserWarning,\n"
          ]
        },
        {
          "name": "stdout",
          "output_type": "stream",
          "text": [
            "{'C': 10}\n"
          ]
        },
        {
          "name": "stderr",
          "output_type": "stream",
          "text": [
            "/usr/local/lib/python3.7/dist-packages/sklearn/model_selection/_validation.py:372: FitFailedWarning: \n",
            "10 fits failed out of a total of 40.\n",
            "The score on these train-test partitions for these parameters will be set to nan.\n",
            "If these failures are not expected, you can try to debug them by setting error_score='raise'.\n",
            "\n",
            "Below are more details about the failures:\n",
            "--------------------------------------------------------------------------------\n",
            "10 fits failed with the following error:\n",
            "Traceback (most recent call last):\n",
            "  File \"/usr/local/lib/python3.7/dist-packages/sklearn/model_selection/_validation.py\", line 681, in _fit_and_score\n",
            "    estimator.fit(X_train, y_train, **fit_params)\n",
            "  File \"/usr/local/lib/python3.7/dist-packages/sklearn/svm/_base.py\", line 255, in fit\n",
            "    fit(X, y, sample_weight, solver_type, kernel, random_seed=seed)\n",
            "  File \"/usr/local/lib/python3.7/dist-packages/sklearn/svm/_base.py\", line 333, in _dense_fit\n",
            "    random_seed=random_seed,\n",
            "  File \"sklearn/svm/_libsvm.pyx\", line 61, in sklearn.svm._libsvm.fit\n",
            "TypeError: must be real number, not str\n",
            "\n",
            "  warnings.warn(some_fits_failed_message, FitFailedWarning)\n",
            "/usr/local/lib/python3.7/dist-packages/sklearn/model_selection/_search.py:972: UserWarning: One or more of the test scores are non-finite: [       nan 0.56030534 0.59618321 0.59541985]\n",
            "  category=UserWarning,\n"
          ]
        }
      ]
    },
    {
      "cell_type": "code",
      "metadata": {
        "colab": {
          "base_uri": "https://localhost:8080/"
        },
        "id": "9vj0zqo7auJg",
        "outputId": "2d230111-e5c9-43e3-e1df-af4549f44583"
      },
      "source": [
        "sv = svm.SVC(kernel= 'linear',C=10, gamma='auto')\n",
        "sv.fit(X,Y)"
      ],
      "execution_count": null,
      "outputs": [
        {
          "data": {
            "text/plain": [
              "SVC(C=10, gamma='auto', kernel='linear')"
            ]
          },
          "execution_count": 14,
          "metadata": {},
          "output_type": "execute_result"
        }
      ]
    },
    {
      "cell_type": "code",
      "metadata": {
        "id": "ctFjf2e6ekMo"
      },
      "source": [
        "ypred = sv.predict(Xt)"
      ],
      "execution_count": null,
      "outputs": []
    },
    {
      "cell_type": "code",
      "metadata": {
        "colab": {
          "base_uri": "https://localhost:8080/"
        },
        "id": "wmwG7NKBetQm",
        "outputId": "256c7c0e-e577-4886-ef6c-d885462c216a"
      },
      "source": [
        "from sklearn.metrics import classification_report\n",
        "target_names = ['allow', 'deny', 'drop','reset-both']\n",
        "print(classification_report(Yt, ypred, target_names=target_names,digits=5))\n",
        "\n"
      ],
      "execution_count": null,
      "outputs": [
        {
          "name": "stdout",
          "output_type": "stream",
          "text": [
            "              precision    recall  f1-score   support\n",
            "\n",
            "       allow    0.99254   0.99193   0.99223     36906\n",
            "        deny    0.98720   0.95634   0.97153     14682\n",
            "        drop    0.96119   1.00000   0.98021     12582\n",
            "  reset-both    0.00000   0.00000   0.00000        52\n",
            "\n",
            "    accuracy                        0.98457     64222\n",
            "   macro avg    0.73523   0.73707   0.73599     64222\n",
            "weighted avg    0.98438   0.98457   0.98434     64222\n",
            "\n"
          ]
        }
      ]
    },
    {
      "cell_type": "code",
      "metadata": {
        "id": "c6GCh2TFe5OM"
      },
      "source": [
        "import seaborn as sns\n",
        "\n",
        "\n",
        "def plot_cv_results(cv_results, param_x, param_z, metric='mean_test_score'):\n",
        "    cv_results = pd.DataFrame(cv_results)\n",
        "    col_x = 'param_' + param_x\n",
        "    col_z = 'param_' + param_z\n",
        "    fig, ax = plt.subplots(1, 1, figsize=(11, 8))\n",
        "    sns.pointplot(x=col_x, y=metric, hue=col_z, data=cv_results, ci=99, n_boot=64, ax=ax)\n",
        "    ax.set_title(\"CV Grid Search Results\")\n",
        "    ax.set_xlabel(param_x)\n",
        "    ax.set_ylabel(\"Mean_test_score\")\n",
        "    ax.legend(title=param_z)\n",
        "    return fig\n",
        "\n",
        "def plot_cv_result(cv_results, param_x, metric='mean_test_score'):\n",
        "    cv_results = pd.DataFrame(cv_results)\n",
        "    col_x = 'param_' + param_x\n",
        "    fig, ax = plt.subplots(1, 1, figsize=(11, 8))\n",
        "    sns.pointplot(x=col_x,  y=metric, hue=None, data=cv_results, ci=99, n_boot=64, ax=ax, fontsize=50)\n",
        "    ax.set_title(\"CV Grid Search Results\")\n",
        "    ax.set_xlabel(param_x, fontsize=20)\n",
        "    ax.set_ylabel(\"Mean_test_score\", fontsize=20)\n",
        "    \n",
        "   \n",
        "    return fig"
      ],
      "execution_count": null,
      "outputs": []
    },
    {
      "cell_type": "code",
      "metadata": {
        "colab": {
          "base_uri": "https://localhost:8080/",
          "height": 521
        },
        "id": "0WKmqAiYe9nW",
        "outputId": "a91baa9c-390d-4121-fb8a-4d0afaecd85d"
      },
      "source": [
        "fig = plot_cv_result(cv2.cv_results_, 'C')"
      ],
      "execution_count": null,
      "outputs": [
        {
          "data": {
            "image/png": "[encoded data removed]",
            "text/plain": [
              "<Figure size 792x576 with 1 Axes>"
            ]
          },
          "metadata": {},
          "output_type": "display_data"
        }
      ]
    },
    {
      "cell_type": "code",
      "metadata": {
        "colab": {
          "base_uri": "https://localhost:8080/"
        },
        "id": "LeqCUc-Zfk72",
        "outputId": "abc764ff-7395-440c-a2c7-bb57012d6382"
      },
      "source": [
        "sv.support_vectors_.shape"
      ],
      "execution_count": null,
      "outputs": [
        {
          "data": {
            "text/plain": [
              "(51, 11)"
            ]
          },
          "execution_count": 27,
          "metadata": {},
          "output_type": "execute_result"
        }
      ]
    },
    {
      "cell_type": "code",
      "metadata": {
        "id": "Xg7mxUMScKTE"
      },
      "source": [
        "B = A\n",
        "B.drop(['Action'], axis='columns', inplace=True)"
      ],
      "execution_count": null,
      "outputs": []
    },
    {
      "cell_type": "code",
      "metadata": {
        "colab": {
          "base_uri": "https://localhost:8080/",
          "height": 279
        },
        "id": "cUnpWfZwcZnR",
        "outputId": "c49b4353-2c98-4bb0-e944-4006c5bfb1aa"
      },
      "source": [
        "import numpy as np\n",
        "features = [[],[],[],[],[],[],[],[],[],[],[]]\n",
        "for i in range(sv.coef_.shape[0]):\n",
        "  for j in range(len(sv.coef_[i])):\n",
        "      features[j].append(sv.coef_[i][j])\n",
        "\n",
        "means = []\n",
        "errors = []\n",
        "for i in features:\n",
        "  a = np.array(i)\n",
        "  means.append(np.mean(a))\n",
        "  errors.append(np.std(a))\n",
        "  \n",
        "plt.scatter(means,B.columns)\n",
        "plt.errorbar(means, B.columns, xerr = errors,fmt = 'o',color='black', capsize=3)\n",
        "plt.axvline(x=0, color='k', linestyle='--')\n",
        "plt.xlabel('Weight estimate')\n",
        "plt.show()\n"
      ],
      "execution_count": null,
      "outputs": [
        {
          "data": {
            "image/png": "[encoded data removed]",
            "text/plain": [
              "<Figure size 432x288 with 1 Axes>"
            ]
          },
          "metadata": {},
          "output_type": "display_data"
        }
      ]
    }
  ]
}