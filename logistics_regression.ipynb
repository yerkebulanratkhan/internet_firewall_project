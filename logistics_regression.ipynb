{
  "nbformat": 4,
  "nbformat_minor": 0,
  "metadata": {
    "colab": {
      "name": "logistics_regression.ipynb",
      "provenance": [],
      "collapsed_sections": []
    },
    "kernelspec": {
      "name": "python3",
      "display_name": "Python 3"
    },
    "language_info": {
      "name": "python"
    }
  },
  "cells": [
    {
      "cell_type": "code",
      "metadata": {
        "id": "1DG2JeFGasRw",
        "colab": {
          "base_uri": "https://localhost:8080/"
        },
        "outputId": "9625b6a8-767f-44d7-dbc1-017e69f6714a"
      },
      "source": [
        "import matplotlib.pyplot as plt\n",
        "\n",
        "from sklearn import linear_model\n",
        "import pandas as pd\n",
        "from sklearn import metrics \n",
        "from math import sqrt\n",
        "from sklearn.model_selection import GridSearchCV\n",
        "from sklearn import tree\n",
        "from sklearn.model_selection import train_test_split\n",
        "from sklearn.linear_model import LogisticRegression\n",
        "\n",
        "clf = LogisticRegression()\n",
        "param_grid=[\n",
        "  {\n",
        "      'penalty':['l1', 'l2', 'elasticnet', None],\n",
        "\n",
        "\n",
        "  }\n",
        "]\n",
        "A = pd.read_csv(\"log2.csv\")\n",
        "X = A.values[:,[0,1,2,3,5,6,7,8,9,10,11]]\n",
        "Y = A.values[:,4]\n",
        "X, Xt, Y, Yt = train_test_split(X, Y, train_size=0.7, random_state=42)\n",
        "cv = GridSearchCV(clf, param_grid=param_grid, cv = 10, n_jobs=-1,scoring='accuracy')\n",
        "cv.fit(X,Y)\n",
        "y_pred = cv.predict(Xt)\n",
        "print(cv.best_params_)\n",
        "print(\"accuracy: \", metrics.accuracy_score(Yt, y_pred))"
      ],
      "execution_count": null,
      "outputs": [
        {
          "output_type": "stream",
          "name": "stderr",
          "text": [
            "/usr/local/lib/python3.7/dist-packages/sklearn/model_selection/_validation.py:372: FitFailedWarning: \n",
            "30 fits failed out of a total of 40.\n",
            "The score on these train-test partitions for these parameters will be set to nan.\n",
            "If these failures are not expected, you can try to debug them by setting error_score='raise'.\n",
            "\n",
            "Below are more details about the failures:\n",
            "--------------------------------------------------------------------------------\n",
            "10 fits failed with the following error:\n",
            "Traceback (most recent call last):\n",
            "  File \"/usr/local/lib/python3.7/dist-packages/sklearn/model_selection/_validation.py\", line 681, in _fit_and_score\n",
            "    estimator.fit(X_train, y_train, **fit_params)\n",
            "  File \"/usr/local/lib/python3.7/dist-packages/sklearn/linear_model/_logistic.py\", line 1461, in fit\n",
            "    solver = _check_solver(self.solver, self.penalty, self.dual)\n",
            "  File \"/usr/local/lib/python3.7/dist-packages/sklearn/linear_model/_logistic.py\", line 449, in _check_solver\n",
            "    % (solver, penalty)\n",
            "ValueError: Solver lbfgs supports only 'l2' or 'none' penalties, got l1 penalty.\n",
            "\n",
            "--------------------------------------------------------------------------------\n",
            "10 fits failed with the following error:\n",
            "Traceback (most recent call last):\n",
            "  File \"/usr/local/lib/python3.7/dist-packages/sklearn/model_selection/_validation.py\", line 681, in _fit_and_score\n",
            "    estimator.fit(X_train, y_train, **fit_params)\n",
            "  File \"/usr/local/lib/python3.7/dist-packages/sklearn/linear_model/_logistic.py\", line 1461, in fit\n",
            "    solver = _check_solver(self.solver, self.penalty, self.dual)\n",
            "  File \"/usr/local/lib/python3.7/dist-packages/sklearn/linear_model/_logistic.py\", line 449, in _check_solver\n",
            "    % (solver, penalty)\n",
            "ValueError: Solver lbfgs supports only 'l2' or 'none' penalties, got elasticnet penalty.\n",
            "\n",
            "--------------------------------------------------------------------------------\n",
            "10 fits failed with the following error:\n",
            "Traceback (most recent call last):\n",
            "  File \"/usr/local/lib/python3.7/dist-packages/sklearn/model_selection/_validation.py\", line 681, in _fit_and_score\n",
            "    estimator.fit(X_train, y_train, **fit_params)\n",
            "  File \"/usr/local/lib/python3.7/dist-packages/sklearn/linear_model/_logistic.py\", line 1461, in fit\n",
            "    solver = _check_solver(self.solver, self.penalty, self.dual)\n",
            "  File \"/usr/local/lib/python3.7/dist-packages/sklearn/linear_model/_logistic.py\", line 443, in _check_solver\n",
            "    % (all_penalties, penalty)\n",
            "ValueError: Logistic Regression supports only penalties in ['l1', 'l2', 'elasticnet', 'none'], got None.\n",
            "\n",
            "  warnings.warn(some_fits_failed_message, FitFailedWarning)\n",
            "/usr/local/lib/python3.7/dist-packages/sklearn/model_selection/_search.py:972: UserWarning: One or more of the test scores are non-finite: [       nan 0.97952992        nan        nan]\n",
            "  category=UserWarning,\n"
          ]
        },
        {
          "output_type": "stream",
          "name": "stdout",
          "text": [
            "{'penalty': 'l2'}\n",
            "accuracy:  0.9792472024415056\n"
          ]
        },
        {
          "output_type": "stream",
          "name": "stderr",
          "text": [
            "/usr/local/lib/python3.7/dist-packages/sklearn/linear_model/_logistic.py:818: ConvergenceWarning: lbfgs failed to converge (status=1):\n",
            "STOP: TOTAL NO. of ITERATIONS REACHED LIMIT.\n",
            "\n",
            "Increase the number of iterations (max_iter) or scale the data as shown in:\n",
            "    https://scikit-learn.org/stable/modules/preprocessing.html\n",
            "Please also refer to the documentation for alternative solver options:\n",
            "    https://scikit-learn.org/stable/modules/linear_model.html#logistic-regression\n",
            "  extra_warning_msg=_LOGISTIC_SOLVER_CONVERGENCE_MSG,\n"
          ]
        }
      ]
    },
    {
      "cell_type": "code",
      "metadata": {
        "colab": {
          "base_uri": "https://localhost:8080/",
          "height": 522
        },
        "id": "8b77cVuLVe8A",
        "outputId": "dc450768-5126-4609-8faa-98b7338b4316"
      },
      "source": [
        "fig = plot_cv_result(cv5.cv_results_, 'tol')"
      ],
      "execution_count": null,
      "outputs": [
        {
          "output_type": "display_data",
          "data": {
            "image/png": "[encoded data removed]",
            "text/plain": [
              "<Figure size 792x576 with 1 Axes>"
            ]
          },
          "metadata": {
            "needs_background": "light"
          }
        }
      ]
    },
    {
      "cell_type": "code",
      "metadata": {
        "colab": {
          "base_uri": "https://localhost:8080/"
        },
        "id": "4r_s7PwESUf_",
        "outputId": "503479c2-fb0a-4610-e4a4-e094b3c8672b"
      },
      "source": [
        "param_grid=[\n",
        "  {\n",
        "\n",
        "      'class_weight':['balanced',None],\n",
        "\n",
        "\n",
        "  }\n",
        "]\n",
        "cv2 = GridSearchCV(clf, param_grid=param_grid, cv = 10, n_jobs=-1,scoring='accuracy')\n",
        "cv2.fit(X,Y)\n",
        "y_pred = cv2.predict(Xt)\n",
        "print(cv2.best_params_)\n",
        "      "
      ],
      "execution_count": null,
      "outputs": [
        {
          "output_type": "stream",
          "name": "stdout",
          "text": [
            "{'class_weight': None}\n"
          ]
        },
        {
          "output_type": "stream",
          "name": "stderr",
          "text": [
            "/usr/local/lib/python3.7/dist-packages/sklearn/linear_model/_logistic.py:818: ConvergenceWarning: lbfgs failed to converge (status=1):\n",
            "STOP: TOTAL NO. of ITERATIONS REACHED LIMIT.\n",
            "\n",
            "Increase the number of iterations (max_iter) or scale the data as shown in:\n",
            "    https://scikit-learn.org/stable/modules/preprocessing.html\n",
            "Please also refer to the documentation for alternative solver options:\n",
            "    https://scikit-learn.org/stable/modules/linear_model.html#logistic-regression\n",
            "  extra_warning_msg=_LOGISTIC_SOLVER_CONVERGENCE_MSG,\n"
          ]
        }
      ]
    },
    {
      "cell_type": "code",
      "metadata": {
        "colab": {
          "base_uri": "https://localhost:8080/"
        },
        "id": "q_wpJ542SaOB",
        "outputId": "2718d217-c0f4-4185-ecae-a4acef84e413"
      },
      "source": [
        "param_grid=[\n",
        "  {\n",
        "\n",
        "      'solver':['newton-cg', 'lbfgs', 'liblinear', 'sag', 'saga'],\n",
        "\n",
        "\n",
        "  }\n",
        "]\n",
        "cv3 = GridSearchCV(clf, param_grid=param_grid, cv = 10, n_jobs=-1,scoring='accuracy')\n",
        "cv3.fit(X,Y)\n",
        "y_pred = cv3.predict(Xt)\n",
        "print(cv3.best_params_)\n",
        "      "
      ],
      "execution_count": null,
      "outputs": [
        {
          "output_type": "stream",
          "name": "stdout",
          "text": [
            "{'solver': 'newton-cg'}\n"
          ]
        },
        {
          "output_type": "stream",
          "name": "stderr",
          "text": [
            "/usr/local/lib/python3.7/dist-packages/sklearn/utils/optimize.py:212: ConvergenceWarning: newton-cg failed to converge. Increase the number of iterations.\n",
            "  ConvergenceWarning,\n"
          ]
        }
      ]
    },
    {
      "cell_type": "code",
      "metadata": {
        "colab": {
          "base_uri": "https://localhost:8080/"
        },
        "id": "igCERRGGSjvI",
        "outputId": "711b18fe-c67c-4d89-d409-201556f2a71f"
      },
      "source": [
        "param_grid=[\n",
        "  {\n",
        "\n",
        "      'max_iter':[100,200,500],\n",
        "\n",
        "\n",
        "  }\n",
        "]\n",
        "cv4 = GridSearchCV(clf, param_grid=param_grid, cv = 10, n_jobs=-1,scoring='accuracy')\n",
        "cv4.fit(X,Y)\n",
        "y_pred = cv4.predict(Xt)\n",
        "print(cv4.best_params_)\n",
        "      "
      ],
      "execution_count": null,
      "outputs": [
        {
          "output_type": "stream",
          "name": "stdout",
          "text": [
            "{'max_iter': 500}\n"
          ]
        },
        {
          "output_type": "stream",
          "name": "stderr",
          "text": [
            "/usr/local/lib/python3.7/dist-packages/sklearn/linear_model/_logistic.py:818: ConvergenceWarning: lbfgs failed to converge (status=1):\n",
            "STOP: TOTAL NO. of ITERATIONS REACHED LIMIT.\n",
            "\n",
            "Increase the number of iterations (max_iter) or scale the data as shown in:\n",
            "    https://scikit-learn.org/stable/modules/preprocessing.html\n",
            "Please also refer to the documentation for alternative solver options:\n",
            "    https://scikit-learn.org/stable/modules/linear_model.html#logistic-regression\n",
            "  extra_warning_msg=_LOGISTIC_SOLVER_CONVERGENCE_MSG,\n"
          ]
        }
      ]
    },
    {
      "cell_type": "code",
      "metadata": {
        "colab": {
          "base_uri": "https://localhost:8080/"
        },
        "id": "VZG_S_keSoGI",
        "outputId": "4f3fa0fa-fa3c-4747-8040-2fd09a9d630d"
      },
      "source": [
        "param_grid=[\n",
        "  {\n",
        "\n",
        "      'tol':[0.0001,0.001,0.01]\n",
        "\n",
        "  }\n",
        "]\n",
        "cv5 = GridSearchCV(clf, param_grid=param_grid, cv = 10, n_jobs=-1,scoring='accuracy')\n",
        "cv5.fit(X,Y)\n",
        "y_pred = cv5.predict(Xt)\n",
        "print(cv5.best_params_)\n",
        "      "
      ],
      "execution_count": null,
      "outputs": [
        {
          "output_type": "stream",
          "name": "stdout",
          "text": [
            "{'tol': 0.0001}\n"
          ]
        },
        {
          "output_type": "stream",
          "name": "stderr",
          "text": [
            "/usr/local/lib/python3.7/dist-packages/sklearn/linear_model/_logistic.py:818: ConvergenceWarning: lbfgs failed to converge (status=1):\n",
            "STOP: TOTAL NO. of ITERATIONS REACHED LIMIT.\n",
            "\n",
            "Increase the number of iterations (max_iter) or scale the data as shown in:\n",
            "    https://scikit-learn.org/stable/modules/preprocessing.html\n",
            "Please also refer to the documentation for alternative solver options:\n",
            "    https://scikit-learn.org/stable/modules/linear_model.html#logistic-regression\n",
            "  extra_warning_msg=_LOGISTIC_SOLVER_CONVERGENCE_MSG,\n"
          ]
        }
      ]
    },
    {
      "cell_type": "code",
      "metadata": {
        "id": "Qah9nKr25e_p"
      },
      "source": [
        "import seaborn as sns\n",
        "\n",
        "\n",
        "def plot_cv_results(cv_results, param_x, param_z, metric='mean_test_score'):\n",
        "    cv_results = pd.DataFrame(cv_results)\n",
        "    col_x = 'param_' + param_x\n",
        "    col_z = 'param_' + param_z\n",
        "    fig, ax = plt.subplots(1, 1, figsize=(11, 8))\n",
        "    sns.pointplot(x=col_x, y=metric, hue=col_z, data=cv_results, ci=99, n_boot=64, ax=ax)\n",
        "    ax.set_title(\"CV Grid Search Results\")\n",
        "    ax.set_xlabel(param_x)\n",
        "    ax.set_ylabel(\"Mean_test_score\")\n",
        "    ax.legend(title=param_z)\n",
        "    return fig\n",
        "\n",
        "def plot_cv_result(cv_results, param_x, metric='mean_test_score'):\n",
        "    cv_results = pd.DataFrame(cv_results)\n",
        "    col_x = 'param_' + param_x\n",
        "    fig, ax = plt.subplots(1, 1, figsize=(11, 8))\n",
        "    sns.pointplot(x=col_x,  y=metric, hue=None, data=cv_results, ci=99, n_boot=64, ax=ax, fontsize=50)\n",
        "    ax.set_title(\"CV Grid Search Results\")\n",
        "    ax.set_xlabel(param_x, fontsize=20)\n",
        "    ax.set_ylabel(\"Mean_test_score\", fontsize=20)\n",
        "    \n",
        "   \n",
        "    return fig"
      ],
      "execution_count": null,
      "outputs": []
    },
    {
      "cell_type": "code",
      "metadata": {
        "colab": {
          "base_uri": "https://localhost:8080/"
        },
        "id": "5tpJIHFfX4gJ",
        "outputId": "984018dd-bdac-401d-f55e-35915740200c"
      },
      "source": [
        "clf = LogisticRegression(solver='newton-cg',class_weight = 'balanced', penalty='l2',max_iter=500,tol=0.0001)\n",
        "clf.fit(X,Y)\n"
      ],
      "execution_count": null,
      "outputs": [
        {
          "output_type": "stream",
          "name": "stderr",
          "text": [
            "/usr/local/lib/python3.7/dist-packages/scipy/optimize/linesearch.py:466: LineSearchWarning: The line search algorithm did not converge\n",
            "  warn('The line search algorithm did not converge', LineSearchWarning)\n",
            "/usr/local/lib/python3.7/dist-packages/scipy/optimize/linesearch.py:314: LineSearchWarning: The line search algorithm did not converge\n",
            "  warn('The line search algorithm did not converge', LineSearchWarning)\n",
            "/usr/local/lib/python3.7/dist-packages/sklearn/utils/optimize.py:203: UserWarning: Line Search failed\n",
            "  warnings.warn(\"Line Search failed\")\n"
          ]
        },
        {
          "output_type": "execute_result",
          "data": {
            "text/plain": [
              "LogisticRegression(class_weight='balanced', max_iter=500, solver='newton-cg')"
            ]
          },
          "metadata": {},
          "execution_count": 21
        }
      ]
    },
    {
      "cell_type": "code",
      "metadata": {
        "colab": {
          "base_uri": "https://localhost:8080/"
        },
        "id": "_kN5WztFYoqA",
        "outputId": "96f3b40d-0b0f-4187-a996-fea51087eb26"
      },
      "source": [
        "ypred = clf.predict(Xt)\n",
        "print(\"accuracy: \", metrics.accuracy_score(Yt, ypred))"
      ],
      "execution_count": null,
      "outputs": [
        {
          "output_type": "stream",
          "name": "stdout",
          "text": [
            "accuracy:  0.9578331637843337\n"
          ]
        }
      ]
    },
    {
      "cell_type": "code",
      "metadata": {
        "id": "NMVG1gMiYbF3"
      },
      "source": [
        "B = A\n",
        "B.drop(['Action'], axis='columns', inplace=True)"
      ],
      "execution_count": null,
      "outputs": []
    },
    {
      "cell_type": "code",
      "metadata": {
        "colab": {
          "base_uri": "https://localhost:8080/",
          "height": 279
        },
        "id": "vSsAggO2Yc3v",
        "outputId": "f950fcc4-f3a4-41de-a855-a2703c38e5a7"
      },
      "source": [
        "import numpy as np\n",
        "features = [[],[],[],[],[],[],[],[],[],[],[]]\n",
        "for i in range(clf.coef_.shape[0]):\n",
        "  for j in range(len(clf.coef_[i])):\n",
        "      features[j].append(clf.coef_[i][j])\n",
        "\n",
        "means = []\n",
        "errors = []\n",
        "for i in features:\n",
        "  a = np.array(i)\n",
        "  means.append(np.mean(a))\n",
        "  errors.append(np.std(a))\n",
        "  \n",
        "plt.scatter(means,B.columns)\n",
        "plt.errorbar(means, B.columns, xerr = errors,fmt = 'o',color='black', capsize=3)\n",
        "plt.axvline(x=0, color='k', linestyle='--')\n",
        "plt.xlabel('Weight estimate')\n",
        "plt.show()\n"
      ],
      "execution_count": null,
      "outputs": [
        {
          "output_type": "display_data",
          "data": {
            "image/png": "[encoded data removed]",
            "text/plain": [
              "<Figure size 432x288 with 1 Axes>"
            ]
          },
          "metadata": {
            "needs_background": "light"
          }
        }
      ]
    },
    {
      "cell_type": "code",
      "metadata": {
        "colab": {
          "base_uri": "https://localhost:8080/"
        },
        "id": "EdXS6wbhYv3h",
        "outputId": "7fe70711-c18a-40c4-9eb3-470c9498d554"
      },
      "source": [
        "from sklearn.metrics import classification_report\n",
        "target_names = ['allow', 'deny', 'drop','reset-both']\n",
        "print(classification_report(Yt, ypred, target_names=target_names,digits=5))\n",
        "\n"
      ],
      "execution_count": null,
      "outputs": [
        {
          "output_type": "stream",
          "name": "stdout",
          "text": [
            "              precision    recall  f1-score   support\n",
            "\n",
            "       allow    0.99982   0.99515   0.99748     11330\n",
            "        deny    0.99758   0.82854   0.90524      4485\n",
            "        drop    0.96280   1.00000   0.98105      3830\n",
            "  reset-both    0.01471   0.66667   0.02878        15\n",
            "\n",
            "    accuracy                        0.95783     19660\n",
            "   macro avg    0.74373   0.87259   0.72813     19660\n",
            "weighted avg    0.99135   0.95783   0.97250     19660\n",
            "\n"
          ]
        }
      ]
    }
  ]
}